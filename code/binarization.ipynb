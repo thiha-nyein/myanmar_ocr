{
 "cells": [
  {
   "cell_type": "code",
   "execution_count": 1,
   "metadata": {},
   "outputs": [
    {
     "name": "stdout",
     "output_type": "stream",
     "text": [
      "<class 'numpy.ndarray'>\n"
     ]
    }
   ],
   "source": [
    "import numpy as np\n",
    "from PIL import Image\n",
    "\n",
    "im = np.array(Image.open('img/r_C.png').convert('L').resize((256, 256)))\n",
    "print(type(im))"
   ]
  },
  {
   "cell_type": "code",
   "execution_count": 2,
   "metadata": {},
   "outputs": [
    {
     "name": "stdout",
     "output_type": "stream",
     "text": [
      "[[ True  True  True ...  True  True  True]\n",
      " [ True  True  True ...  True  True  True]\n",
      " [ True  True  True ...  True  True  True]\n",
      " ...\n",
      " [ True  True  True ...  True  True  True]\n",
      " [ True  True  True ...  True  True  True]\n",
      " [ True  True  True ...  True  True  True]]\n"
     ]
    }
   ],
   "source": [
    "th = 128\n",
    "im_bool = im > th\n",
    "print(im_bool)"
   ]
  },
  {
   "cell_type": "code",
   "execution_count": 3,
   "metadata": {},
   "outputs": [
    {
     "name": "stdout",
     "output_type": "stream",
     "text": [
      "[[255 255 255 ... 255 255 255]\n",
      " [255 255 255 ... 255 255 255]\n",
      " [255 255 255 ... 255 255 255]\n",
      " ...\n",
      " [255 255 255 ... 255 255 255]\n",
      " [255 255 255 ... 255 255 255]\n",
      " [255 255 255 ... 255 255 255]]\n"
     ]
    }
   ],
   "source": [
    "im_bin_128 = (im > th) * 255\n",
    "print(im_bin_128)"
   ]
  },
  {
   "cell_type": "code",
   "execution_count": 4,
   "metadata": {},
   "outputs": [],
   "source": [
    "im_bin_64 = (im > 64) * 255\n",
    "im_bin_192 = (im > 192) * 255\n",
    "\n",
    "im_bin = np.concatenate((im_bin_64, im_bin_128, im_bin_192), axis=1)\n",
    "Image.fromarray(np.uint8(im_bin)).save('img/binarization.png')"
   ]
  },
  {
   "cell_type": "code",
   "execution_count": 6,
   "metadata": {},
   "outputs": [],
   "source": [
    "im_bool = im > 128\n",
    "h, w = im.shape\n",
    "\n",
    "im_dst = np.empty((h, w, 3))\n",
    "\n",
    "r, g, b = 255, 128, 32\n",
    "\n",
    "im_dst[:, :, 0] = im_bool * r\n",
    "im_dst[:, :, 1] = im_bool * g\n",
    "im_dst[:, :, 2] = im_bool * b\n",
    "\n",
    "Image.fromarray(np.uint8(im_dst)).save('img/binarization_color.png')"
   ]
  },
  {
   "cell_type": "code",
   "execution_count": 7,
   "metadata": {},
   "outputs": [],
   "source": [
    "r, g, b = 128, 160, 192\n",
    "\n",
    "im_dst[:, :, 0] = im_bool * r\n",
    "im_dst[:, :, 1] = ~im_bool * g\n",
    "im_dst[:, :, 2] = im_bool * b\n",
    "\n",
    "Image.fromarray(np.uint8(im_dst)).save('img/binarization_color2.png')\n"
   ]
  },
  {
   "cell_type": "code",
   "execution_count": null,
   "metadata": {},
   "outputs": [],
   "source": []
  }
 ],
 "metadata": {
  "kernelspec": {
   "display_name": "Python 3",
   "language": "python",
   "name": "python3"
  },
  "language_info": {
   "codemirror_mode": {
    "name": "ipython",
    "version": 3
   },
   "file_extension": ".py",
   "mimetype": "text/x-python",
   "name": "python",
   "nbconvert_exporter": "python",
   "pygments_lexer": "ipython3",
   "version": "3.7.4"
  }
 },
 "nbformat": 4,
 "nbformat_minor": 2
}
